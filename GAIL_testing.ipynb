{
 "cells": [
  {
   "cell_type": "markdown",
   "metadata": {},
   "source": [
    "## Testing GAIL on a Safety GridWorld Environment"
   ]
  },
  {
   "cell_type": "markdown",
   "metadata": {},
   "source": [
    "### Defining the environment to test on.\n",
    "\n",
    "Using a [grid world with lava](https://github.com/maximecb/gym-minigrid#distributional-shift-environment), based on the DeepMind RL Safety Envs, to test generalizability."
   ]
  },
  {
   "cell_type": "code",
   "execution_count": 45,
   "metadata": {
    "ExecuteTime": {
     "end_time": "2020-05-01T09:45:48.809538Z",
     "start_time": "2020-05-01T09:45:48.790474Z"
    },
    "code_folding": [
     33
    ]
   },
   "outputs": [
    {
     "name": "stdout",
     "output_type": "stream",
     "text": [
      "The autoreload extension is already loaded. To reload it, use:\n",
      "  %reload_ext autoreload\n"
     ]
    }
   ],
   "source": [
    "%load_ext autoreload\n",
    "\n",
    "import os\n",
    "from pathlib import Path\n",
    "\n",
    "import gym\n",
    "from gym import spaces\n",
    "\n",
    "import gym_minigrid\n",
    "from gym_minigrid.minigrid import WorldObj, IDX_TO_OBJECT, DIR_TO_VEC\n",
    "\n",
    "import stable_baselines\n",
    "from stable_baselines import GAIL, PPO2\n",
    "from stable_baselines.gail import ExpertDataset, generate_expert_traj\n",
    "from stable_baselines.common.vec_env import DummyVecEnv, VecNormalize\n",
    "from stable_baselines.common.evaluation import evaluate_policy\n",
    "from stable_baselines.common.callbacks import EvalCallback, BaseCallback\n",
    "from stable_baselines.results_plotter import load_results, ts2xy\n",
    "from stable_baselines.bench import Monitor\n",
    "\n",
    "from rl_baselines_zoo.utils import make_env\n",
    "\n",
    "from util.stable_baseline_viz import show_videos, record_video\n",
    "\n",
    "import numpy as np\n",
    "from functools import reduce\n",
    "import operator\n",
    "\n",
    "# the main environment we're testing on\n",
    "ENV_ID = 'MiniGrid-DistShift1-v0'\n",
    "\n",
    "# use the slightly different env for later testing of generalization\n",
    "MODIFIED_ENV_ID = 'MiniGrid-DistShift2-v0'\n",
    "\n",
    "# file I/O configuration\n",
    "EXPERIMENT_HOME = 'experiment_data'\n",
    "\n",
    "# training logging\n",
    "LOG_DIR_BASE = './logs/'\n",
    "\n",
    "# these are for data associated with the expert\n",
    "EXPERT_NAME = 'ppo2'\n",
    "\n",
    "EXPERT_LOG_DIR = os.path.join(LOG_DIR_BASE, EXPERT_NAME)\n",
    "EXPERT_DIR = os.path.join(EXPERIMENT_HOME, 'expert_data')\n",
    "EXPERT_VIDEO_DIR = os.path.join(EXPERT_DIR, 'videos/')\n",
    "\n",
    "EXPERT_RUN_ID = f'expert_{EXPERT_NAME}_{ENV_ID}'\n",
    "EXPERT_MODEL_PATH = os.path.join(EXPERT_DIR, f'{EXPERT_RUN_ID}_model')\n",
    "EXPERT_MODEL_TRACES_PATH = os.path.join(EXPERT_DIR,\n",
    "                                        f'{EXPERT_RUN_ID}_traces.npz')\n",
    "EXPERT_BEST_MODEL_PATH = os.path.join(EXPERT_LOG_DIR, 'best_model.zip')\n",
    "\n",
    "# these are for data associated with the imitation learner\n",
    "LEARNER_NAME = 'gail'\n",
    "\n",
    "LEARNER_DIR = os.path.join(EXPERIMENT_HOME, 'learner_data')\n",
    "LEARNER_LOG_DIR = os.path.join(LOG_DIR_BASE, LEARNER_NAME)\n",
    "LEARNER_VIDEO_DIR = os.path.join(LEARNER_DIR, 'videos/')\n",
    "\n",
    "LEARNER_RUN_ID = f'learner_{LEARNER_NAME}_{ENV_ID}'\n",
    "LEARNER_MODIFIIED_RUN_ID = f'learner_{LEARNER_NAME}_{MODIFIED_ENV_ID}'\n",
    "LEARNER_MODEL_PATH = os.path.join(LEARNER_DIR, f'{LEARNER_RUN_ID}_model')\n",
    "LEARNER_BEST_MODEL_PATH= os.path.join(LEARNER_LOG_DIR, 'best_model.zip')\n",
    "\n",
    "# need to ensure these directories always exist\n",
    "Path(LOG_DIR_BASE).mkdir(parents=True, exist_ok=True)\n",
    "\n",
    "Path(EXPERT_DIR).mkdir(parents=True, exist_ok=True)\n",
    "Path(EXPERT_VIDEO_DIR).mkdir(parents=True, exist_ok=True)\n",
    "\n",
    "Path(LEARNER_DIR).mkdir(parents=True, exist_ok=True)\n",
    "Path(LEARNER_VIDEO_DIR).mkdir(parents=True, exist_ok=True)\n",
    "\n",
    "# decide whether you want to load in a pre-trained expert for the ENV or if\n",
    "# you need to learn an expert using RL data\n",
    "expert_formats = ['pre_trained_model', 'traces_only', 'learn_the_model']\n",
    "expert_format = expert_formats[2]\n",
    "\n",
    "# allow use of already trained learner\n",
    "load_learner = False\n",
    "\n",
    "# performance evaluation / visualization settings\n",
    "MAX_VIDEO_LEN = 500\n",
    "NUM_EVAL_EPISODES = 100"
   ]
  },
  {
   "cell_type": "markdown",
   "metadata": {
    "heading_collapsed": true
   },
   "source": [
    "### Underlying MDP definition"
   ]
  },
  {
   "cell_type": "code",
   "execution_count": 2,
   "metadata": {
    "ExecuteTime": {
     "end_time": "2020-05-01T07:34:29.767212Z",
     "start_time": "2020-05-01T07:34:29.757293Z"
    },
    "code_folding": [],
    "hidden": true
   },
   "outputs": [],
   "source": [
    "MDP_DISCOUNT_FACTOR = 0.99\n",
    "\n",
    "# this function is essentially defining the MDP's state space\n",
    "class FlatFullyObsStateWrapper(gym.core.ObservationWrapper):\n",
    "    \"\"\"\n",
    "    Returns the agent's position and direction as 1-D vector\n",
    "    \"\"\"\n",
    "\n",
    "    def __init__(self, parent_env):\n",
    "        super().__init__(parent_env)\n",
    "        \n",
    "        self.parent_env = parent_env\n",
    "        \n",
    "        # the width / height include 1 cell padding on either side, so\n",
    "        # an agent coordinate will be from 1 -- [(width/height) - 2]\n",
    "        agent_max_x = parent_env.width - 2\n",
    "        agent_max_y = parent_env.height - 2\n",
    "        possible_state_label_IDs = list(IDX_TO_OBJECT.keys())\n",
    "        possible_agent_direction_vectors = DIR_TO_VEC\n",
    "\n",
    "        self.observation_space = spaces.Box(\n",
    "            # direction part of state is from 0-4, so lowest observed value\n",
    "            # in state vector is 0\n",
    "            low=0,\n",
    "            # we are keeping x and y as separate coordinates of the state\n",
    "            # so the max value is the max of all types of vars in the state\n",
    "            high=np.max([agent_max_x, agent_max_y,\n",
    "                         np.max(possible_state_label_IDs),\n",
    "                         len(possible_agent_direction_vectors)]),\n",
    "            # we're going to store the state as:\n",
    "            #     [pos_x, pos_y, direction, state_label_ID]\n",
    "            shape=(4,),\n",
    "            # sigh, this needs to be float or GAIL stuff will freak out\n",
    "            dtype='float32'\n",
    "        )\n",
    "\n",
    "    def observation(self, obs):\n",
    "        agent_x = self.parent_env.agent_pos[0]\n",
    "        agent_y = self.parent_env.agent_pos[1]\n",
    "        \n",
    "        # here we're going to extract the MDP state label for the current \n",
    "        # grid location to help the learner generalize\n",
    "        # \n",
    "        # IDX_TO_OBJECT[state_label_ID] is something like \"lava\" or \"goal\"\n",
    "        grid = self.parent_env.grid.encode()\n",
    "        state_label_ID, _, _ = grid[agent_x, agent_y]\n",
    "\n",
    "        obs = np.array([agent_x,\n",
    "                        agent_y,\n",
    "                        self.parent_env.agent_dir,\n",
    "                        state_label_ID], dtype=np.float32)\n",
    "\n",
    "        return obs\n",
    "    \n",
    "class FlatObsWrapper(gym.core.ObservationWrapper):\n",
    "    \"\"\"\n",
    "    Encode mission strings using a one-hot scheme,\n",
    "    and combine these with observed images into one flat array\n",
    "    \"\"\"\n",
    "\n",
    "    def __init__(self, env, maxStrLen=96):\n",
    "        super().__init__(env)\n",
    "\n",
    "        self.maxStrLen = maxStrLen\n",
    "        self.numCharCodes = 27\n",
    "\n",
    "        imgSpace = env.observation_space.spaces['image']\n",
    "        imgSize = reduce(operator.mul, imgSpace.shape, 1)\n",
    "\n",
    "        self.observation_space = spaces.Box(\n",
    "            low=0,\n",
    "            high=255,\n",
    "            shape=(imgSize + self.numCharCodes * self.maxStrLen,),\n",
    "            dtype='float32'\n",
    "        )\n",
    "\n",
    "        self.cachedStr = None\n",
    "        self.cachedArray = None\n",
    "\n",
    "    def observation(self, obs):\n",
    "        image = obs['image']\n",
    "        mission = obs['mission']\n",
    "\n",
    "        # Cache the last-encoded mission string\n",
    "        if mission != self.cachedStr:\n",
    "            assert len(mission) <= self.maxStrLen, 'mission string too long ({} chars)'.format(len(mission))\n",
    "            mission = mission.lower()\n",
    "\n",
    "            strArray = np.zeros(shape=(self.maxStrLen, self.numCharCodes), dtype='float32')\n",
    "\n",
    "            for idx, ch in enumerate(mission):\n",
    "                if ch >= 'a' and ch <= 'z':\n",
    "                    chNo = ord(ch) - ord('a')\n",
    "                elif ch == ' ':\n",
    "                    chNo = ord('z') - ord('a') + 1\n",
    "                assert chNo < self.numCharCodes, '%s : %d' % (ch, chNo)\n",
    "                strArray[idx, chNo] = 1\n",
    "\n",
    "            self.cachedStr = mission\n",
    "            self.cachedArray = strArray\n",
    "\n",
    "        obs = np.concatenate((image.flatten(), self.cachedArray.flatten()))\n",
    "\n",
    "        return obs"
   ]
  },
  {
   "cell_type": "markdown",
   "metadata": {},
   "source": [
    "### Learning Hyperparams"
   ]
  },
  {
   "cell_type": "markdown",
   "metadata": {},
   "source": [
    "Learning Model Hyperparameters:"
   ]
  },
  {
   "cell_type": "code",
   "execution_count": 58,
   "metadata": {
    "ExecuteTime": {
     "end_time": "2020-05-01T09:51:30.280526Z",
     "start_time": "2020-05-01T09:51:30.275614Z"
    }
   },
   "outputs": [],
   "source": [
    "hyperparams = {'expert_ppo2':\n",
    "                    {'cliprange': 0.2,\n",
    "                     'ent_coef': 0.0,\n",
    "                     'gamma': MDP_DISCOUNT_FACTOR,\n",
    "                     'lam': 0.95,\n",
    "                     'learning_rate': 0.00025,\n",
    "                     'n_steps': 128,\n",
    "                     'n_timesteps': 200_000,\n",
    "                     'nminibatches': 32,\n",
    "                     'noptepochs': 10,\n",
    "                     'policy': 'MlpPolicy',\n",
    "                     'eval_freq': 500},\n",
    "               'learner_gail':\n",
    "                    {'policy': 'MlpPolicy',\n",
    "                     'n_timesteps': 500_000,\n",
    "                     'eval_freq': 500,\n",
    "                    'gamma': MDP_DISCOUNT_FACTOR}}"
   ]
  },
  {
   "cell_type": "markdown",
   "metadata": {},
   "source": [
    "Environment Hyperparameters:"
   ]
  },
  {
   "cell_type": "code",
   "execution_count": 32,
   "metadata": {
    "ExecuteTime": {
     "end_time": "2020-05-01T09:39:22.061841Z",
     "start_time": "2020-05-01T09:39:22.058779Z"
    }
   },
   "outputs": [],
   "source": [
    "# this transforms the partially-observable, image-based observations of the\n",
    "# normal miniGW to a fully-observable, position-based, labeled underlying MDP \n",
    "env_wrapper = FlatObsWrapper\n",
    "\n",
    "# using vectorized env. is SOO much faster, but only some algs support\n",
    "# it e.g. PPO2\n",
    "n_envs_expert = 16"
   ]
  },
  {
   "cell_type": "markdown",
   "metadata": {},
   "source": [
    "### Environment Definition w.r.t. Hyperparameters"
   ]
  },
  {
   "cell_type": "code",
   "execution_count": 52,
   "metadata": {
    "ExecuteTime": {
     "end_time": "2020-05-01T09:48:28.164822Z",
     "start_time": "2020-05-01T09:48:28.129695Z"
    },
    "code_folding": []
   },
   "outputs": [
    {
     "name": "stderr",
     "output_type": "stream",
     "text": [
      "/home/ferg/.local/lib/python3.6/site-packages/gym/logger.py:30: UserWarning: \u001b[33mWARN: Box bound precision lowered by casting to float32\u001b[0m\n",
      "  warnings.warn(colorize('%s: %s'%('WARN', msg % args), 'yellow'))\n"
     ]
    }
   ],
   "source": [
    "# Here, we need to make it fully observable and then compatible with \n",
    "# stable-baselines\n",
    "expert_env = DummyVecEnv([make_env(ENV_ID, wrapper_class=env_wrapper,\n",
    "                                   rank=i) for i in range(n_envs_expert)])\n",
    "    \n",
    "# need a copy of this environment for online algorithm evaluation\n",
    "expert_eval_env = DummyVecEnv([make_env(ENV_ID, wrapper_class=env_wrapper,\n",
    "                                        rank=i) for i in range(1)])\n",
    "\n",
    "# need a non-vectorized copy of this environment for the gail learner\n",
    "learner_env = gym.make(ENV_ID)\n",
    "learner_env = Monitor(learner_env, LEARNER_LOG_DIR)\n",
    "learner_env = env_wrapper(learner_env)\n",
    "learner_eval_env = DummyVecEnv([make_env(ENV_ID, wrapper_class=env_wrapper,\n",
    "                                         rank=i) for i in range(1)])\n",
    "\n",
    "# need the different-looking-but-same-goal environment to test generalization\n",
    "# need a copy of this environment for online algorithm evaluation\n",
    "modified_env = DummyVecEnv([make_env(MODIFIED_ENV_ID,\n",
    "                                     wrapper_class=env_wrapper,\n",
    "                                     rank=i) for i in range(1)])"
   ]
  },
  {
   "cell_type": "markdown",
   "metadata": {},
   "source": [
    "### Get an expert demonstrator and generate expert trajectories\n",
    "\n",
    "The end goal of this section is to provide the imitation learner with a set of \"expert\" demonstrations to learn from. This can be accomplished in several ways:\n",
    "\n",
    "<br>\n",
    "\n",
    "**Expert Formats:**\n",
    "\n",
    "*possible formats: `'pre_trained_model', 'traces_only', 'learn_the_model'`*\n",
    "\n",
    "* `'learn_the_model'`: learning the model just requires choosing the desired RL algorithm and settings its hyperparameters (see above).\n",
    "\n",
    "* `'pre_trained_model'`: a pre-trained expert must have a saved `stable_baselines` model file at `EXPERT_MODEL_PATH`. See the [saving guide](https://stable-baselines.readthedocs.io/en/master/guide/save_format.html) for info on how to do that.\n",
    "\n",
    "* `'traces_only'`: demonstration traces must reside in the `npz` archive at `EXPERT_MODEL_TRACES_PATH` and folow the format needed by `stable_baselines.gail.ExpertDataset()`.\n",
    "\n",
    "\n",
    "<br>\n",
    "\n",
    "--- \n",
    "\n",
    "<br>\n",
    "\n",
    "**From the docs**:\n",
    "\n",
    "*The expert dataset is a .npz archive. The data is saved in python dictionary format with keys: actions, episode_returns, rewards, obs, episode_starts.*\n",
    "\n",
    "*In case of images, obs contains the relative path to the images.*\n",
    "\n",
    "*obs, actions: shape (N * L, ) + S*\n",
    "\n",
    "*where N = # episodes, L = episode length and S is the environment observation/action space.*\n",
    "\n",
    "*S = (1, ) for discrete space*\n",
    "\n",
    "<br>"
   ]
  },
  {
   "cell_type": "code",
   "execution_count": 34,
   "metadata": {
    "ExecuteTime": {
     "end_time": "2020-05-01T09:43:02.530349Z",
     "start_time": "2020-05-01T09:39:28.251007Z"
    }
   },
   "outputs": [
    {
     "name": "stdout",
     "output_type": "stream",
     "text": [
      "Eval num_timesteps=8000, episode_reward=0.00 +/- 0.00\n",
      "Episode length: 2.00 +/- 0.00\n",
      "New best mean reward!\n",
      "Eval num_timesteps=16000, episode_reward=0.00 +/- 0.00\n",
      "Episode length: 2.00 +/- 0.00\n",
      "Eval num_timesteps=24000, episode_reward=0.00 +/- 0.00\n",
      "Episode length: 2.00 +/- 0.00\n",
      "Eval num_timesteps=32000, episode_reward=0.00 +/- 0.00\n",
      "Episode length: 2.00 +/- 0.00\n",
      "Eval num_timesteps=40000, episode_reward=0.00 +/- 0.00\n",
      "Episode length: 2.00 +/- 0.00\n",
      "Eval num_timesteps=48000, episode_reward=0.00 +/- 0.00\n",
      "Episode length: 2.00 +/- 0.00\n",
      "Eval num_timesteps=56000, episode_reward=0.00 +/- 0.00\n",
      "Episode length: 2.00 +/- 0.00\n",
      "Eval num_timesteps=64000, episode_reward=0.00 +/- 0.00\n",
      "Episode length: 252.00 +/- 0.00\n",
      "Eval num_timesteps=72000, episode_reward=0.00 +/- 0.00\n",
      "Episode length: 2.00 +/- 0.00\n",
      "Eval num_timesteps=80000, episode_reward=0.00 +/- 0.00\n",
      "Episode length: 2.00 +/- 0.00\n",
      "Eval num_timesteps=88000, episode_reward=0.00 +/- 0.00\n",
      "Episode length: 252.00 +/- 0.00\n",
      "Eval num_timesteps=96000, episode_reward=0.00 +/- 0.00\n",
      "Episode length: 2.00 +/- 0.00\n",
      "Eval num_timesteps=104000, episode_reward=0.00 +/- 0.00\n",
      "Episode length: 2.00 +/- 0.00\n",
      "Eval num_timesteps=112000, episode_reward=0.00 +/- 0.00\n",
      "Episode length: 2.00 +/- 0.00\n",
      "Eval num_timesteps=120000, episode_reward=0.00 +/- 0.00\n",
      "Episode length: 2.00 +/- 0.00\n",
      "Eval num_timesteps=128000, episode_reward=0.00 +/- 0.00\n",
      "Episode length: 2.00 +/- 0.00\n",
      "Eval num_timesteps=136000, episode_reward=0.00 +/- 0.00\n",
      "Episode length: 2.00 +/- 0.00\n",
      "Eval num_timesteps=144000, episode_reward=0.00 +/- 0.00\n",
      "Episode length: 2.00 +/- 0.00\n",
      "Eval num_timesteps=152000, episode_reward=0.00 +/- 0.00\n",
      "Episode length: 2.00 +/- 0.00\n",
      "Eval num_timesteps=160000, episode_reward=0.00 +/- 0.00\n",
      "Episode length: 2.00 +/- 0.00\n",
      "Eval num_timesteps=168000, episode_reward=0.00 +/- 0.00\n",
      "Episode length: 252.00 +/- 0.00\n",
      "Eval num_timesteps=176000, episode_reward=0.94 +/- 0.00\n",
      "Episode length: 18.00 +/- 0.00\n",
      "New best mean reward!\n",
      "Eval num_timesteps=184000, episode_reward=0.95 +/- 0.00\n",
      "Episode length: 15.00 +/- 0.00\n",
      "New best mean reward!\n",
      "Eval num_timesteps=192000, episode_reward=0.95 +/- 0.00\n",
      "Episode length: 13.00 +/- 0.00\n",
      "New best mean reward!\n"
     ]
    }
   ],
   "source": [
    "if expert_format == 'pre_trained_model':\n",
    "    expert_model = PPO2.load(EXPERT_MODEL_PATH)\n",
    "    expert_model.set_env(expert_env)\n",
    "\n",
    "elif expert_format == 'learn_the_model':\n",
    "    expert_hparam = hyperparams['expert_ppo2']\n",
    "\n",
    "    expert_model = PPO2(expert_hparam['policy'], expert_env,\n",
    "                        cliprange=expert_hparam['cliprange'],\n",
    "                        ent_coef=expert_hparam['ent_coef'],\n",
    "                        gamma=expert_hparam['gamma'],\n",
    "                        lam=expert_hparam['lam'],\n",
    "                        learning_rate=expert_hparam['learning_rate'],\n",
    "                        n_steps=expert_hparam['n_steps'],\n",
    "                        nminibatches=expert_hparam['nminibatches'],\n",
    "                        noptepochs=expert_hparam['noptepochs'],\n",
    "                        verbose=0,\n",
    "                        tensorboard_log=EXPERT_LOG_DIR)\n",
    "\n",
    "    # always use deterministic actions for live evaluation\n",
    "    eval_callback = EvalCallback(expert_eval_env,\n",
    "                                 best_model_save_path=EXPERT_LOG_DIR,\n",
    "                                 log_path=EXPERT_LOG_DIR,\n",
    "                                 eval_freq=expert_hparam['eval_freq'],\n",
    "                                 deterministic=True, render=False)\n",
    "\n",
    "    # while evaluate the model on a new environment and save the best one\n",
    "    # periodically\n",
    "    expert_model.learn(total_timesteps=expert_hparam['n_timesteps'],\n",
    "                       callback=eval_callback)\n",
    "\n",
    "    # need to load and then save the best model found during training\n",
    "    expert_model.load(EXPERT_BEST_MODEL_PATH)\n",
    "    expert_model.set_env(expert_env)\n",
    "\n",
    "    # now save the final model so if we like it, we don't need to re-learn it\n",
    "    # The model will be saved under $EXPERT_MODEL_EXPER_MODEL_PATH.zip\n",
    "    expert_model.save(EXPERT_MODEL_PATH)"
   ]
  },
  {
   "cell_type": "markdown",
   "metadata": {},
   "source": [
    "If we now have an expert model, sample trajectories from it and save them as demonstrations for the imitation learner. If you just provide traces, we will do nothing and assume the traces exist at `EXPERT_MODEL_TRACES_PATH`."
   ]
  },
  {
   "cell_type": "code",
   "execution_count": 35,
   "metadata": {
    "ExecuteTime": {
     "end_time": "2020-05-01T09:43:55.607510Z",
     "start_time": "2020-05-01T09:43:53.593465Z"
    },
    "scrolled": true
   },
   "outputs": [
    {
     "name": "stdout",
     "output_type": "stream",
     "text": [
      "actions (1345, 1)\n",
      "obs (1345, 2739)\n",
      "rewards (1345, 1)\n",
      "episode_returns (100,)\n",
      "episode_starts (1345,)\n",
      "actions (1345, 1)\n",
      "obs (1345, 2739)\n",
      "rewards (1345, 1)\n",
      "episode_returns (100,)\n",
      "episode_starts (1345,)\n",
      "Total trajectories: -1\n",
      "Total transitions: 1345\n",
      "Average returns: 0.9519642949104309\n",
      "Std for returns: 0.011421593223745896\n"
     ]
    }
   ],
   "source": [
    "if expert_format != 'traces_only':\n",
    "    \n",
    "    # vectorized environments do not work with generate_expert_traj, not sure\n",
    "    # why. Seems to be that threads are probably not synced properly somehow\n",
    "    #\n",
    "    # The evaluation environment already must only have a singular env, so\n",
    "    # use it for trace generation.\n",
    "    expert_model.set_env(expert_eval_env)\n",
    "    \n",
    "    # generate trajectories in the environment under the expert_model\n",
    "    generate_expert_traj(expert_model, EXPERT_MODEL_TRACES_PATH,\n",
    "                         n_episodes=100);\n",
    "    \n",
    "# Load the expert dataset\n",
    "expert_dataset = ExpertDataset(expert_path=EXPERT_MODEL_TRACES_PATH,\n",
    "                               verbose=1)"
   ]
  },
  {
   "cell_type": "markdown",
   "metadata": {},
   "source": [
    "### Training the imitation learner from the expert data\n",
    "\n",
    "If you want to load in a pre-trained IL model, the model save archive needs to be located at `LEARNER_MODEL_PATH`."
   ]
  },
  {
   "cell_type": "code",
   "execution_count": 43,
   "metadata": {
    "ExecuteTime": {
     "end_time": "2020-05-01T09:44:59.470961Z",
     "start_time": "2020-05-01T09:44:59.460713Z"
    }
   },
   "outputs": [],
   "source": [
    "class SaveOnBestTrainingRewardCallback(BaseCallback):\n",
    "    \"\"\"\n",
    "    Callback for saving a model (the check is done every ``check_freq`` steps)\n",
    "    based on the training reward (in practice, we recommend using ``EvalCallback``).\n",
    "\n",
    "    :param check_freq: (int)\n",
    "    :param log_dir: (str) Path to the folder where the model will be saved.\n",
    "      It must contains the file created by the ``Monitor`` wrapper.\n",
    "    :param verbose: (int)\n",
    "    \"\"\"\n",
    "    def __init__(self, check_freq: int, log_dir: str, verbose=1):\n",
    "        super(SaveOnBestTrainingRewardCallback, self).__init__(verbose)\n",
    "        self.check_freq = check_freq\n",
    "        self.log_dir = log_dir\n",
    "        self.save_path = os.path.join(log_dir, 'best_model')\n",
    "        self.best_mean_reward = -np.inf\n",
    "\n",
    "    def _init_callback(self) -> None:\n",
    "        # Create folder if needed\n",
    "        if self.save_path is not None:\n",
    "            os.makedirs(self.save_path, exist_ok=True)\n",
    "\n",
    "    def _on_step(self) -> bool:\n",
    "        if self.n_calls % self.check_freq == 0:\n",
    "\n",
    "            # Retrieve training reward\n",
    "            x, y = ts2xy(load_results(self.log_dir), 'timesteps')\n",
    "            if len(x) > 0:\n",
    "                # Mean training reward over the last 100 episodes\n",
    "                mean_reward = np.mean(y[-100:])\n",
    "                if self.verbose > 0:\n",
    "                    print(\"Num timesteps: {}\".format(self.num_timesteps))\n",
    "                    print(f\"Best mean reward: {self.best_mean_reward} - \" + \\\n",
    "                          f\"Last mean reward per episode: {mean_reward}\")\n",
    "\n",
    "                # New best model, you could save the agent here\n",
    "                if mean_reward > self.best_mean_reward:\n",
    "                    self.best_mean_reward = mean_reward\n",
    "                    # Example for saving best model\n",
    "                    if self.verbose > 0:\n",
    "                        print(\"Saving new best model to {}\".format(self.save_path))\n",
    "                    self.model.save(self.save_path)\n",
    "\n",
    "        return True"
   ]
  },
  {
   "cell_type": "code",
   "execution_count": 69,
   "metadata": {
    "ExecuteTime": {
     "end_time": "2020-05-01T10:53:29.386866Z",
     "start_time": "2020-05-01T10:52:47.897079Z"
    },
    "scrolled": true
   },
   "outputs": [
    {
     "name": "stdout",
     "output_type": "stream",
     "text": [
      "Num timesteps: 0\n",
      "Best mean reward: 0.01114286 - Last mean reward per episode: 0.00532143\n",
      "Num timesteps: 0\n",
      "Best mean reward: 0.01114286 - Last mean reward per episode: 0.00532143\n",
      "Num timesteps: 0\n",
      "Best mean reward: 0.01114286 - Last mean reward per episode: 0.00696429\n",
      "Num timesteps: 0\n",
      "Best mean reward: 0.01114286 - Last mean reward per episode: 0.00696429\n",
      "Num timesteps: 0\n",
      "Best mean reward: 0.01114286 - Last mean reward per episode: 0.00696429\n",
      "Num timesteps: 0\n",
      "Best mean reward: 0.01114286 - Last mean reward per episode: 0.00696429\n",
      "Num timesteps: 1024\n",
      "Best mean reward: 0.01114286 - Last mean reward per episode: 0.00696429\n",
      "Num timesteps: 1024\n",
      "Best mean reward: 0.01114286 - Last mean reward per episode: 0.00696429\n",
      "Num timesteps: 1024\n",
      "Best mean reward: 0.01114286 - Last mean reward per episode: 0.00696429\n",
      "Num timesteps: 1024\n",
      "Best mean reward: 0.01114286 - Last mean reward per episode: 0.00696429\n",
      "Num timesteps: 1024\n",
      "Best mean reward: 0.01114286 - Last mean reward per episode: 0.00696429\n",
      "Num timesteps: 1024\n",
      "Best mean reward: 0.01114286 - Last mean reward per episode: 0.00696429\n",
      "Num timesteps: 2048\n",
      "Best mean reward: 0.01114286 - Last mean reward per episode: 0.00696429\n",
      "Num timesteps: 2048\n",
      "Best mean reward: 0.01114286 - Last mean reward per episode: 0.00696429\n",
      "Num timesteps: 2048\n",
      "Best mean reward: 0.01114286 - Last mean reward per episode: 0.00696429\n",
      "Num timesteps: 2048\n",
      "Best mean reward: 0.01114286 - Last mean reward per episode: 0.00810715\n",
      "Num timesteps: 2048\n",
      "Best mean reward: 0.01114286 - Last mean reward per episode: 0.00810715\n",
      "Num timesteps: 2048\n",
      "Best mean reward: 0.01114286 - Last mean reward per episode: 0.00810715\n",
      "Num timesteps: 3072\n",
      "Best mean reward: 0.01114286 - Last mean reward per episode: 0.00810715\n",
      "Num timesteps: 3072\n",
      "Best mean reward: 0.01114286 - Last mean reward per episode: 0.00810715\n",
      "Num timesteps: 3072\n",
      "Best mean reward: 0.01114286 - Last mean reward per episode: 0.00810715\n",
      "Num timesteps: 3072\n",
      "Best mean reward: 0.01114286 - Last mean reward per episode: 0.00810715\n",
      "Num timesteps: 3072\n",
      "Best mean reward: 0.01114286 - Last mean reward per episode: 0.01107143\n",
      "Num timesteps: 3072\n",
      "Best mean reward: 0.01114286 - Last mean reward per episode: 0.011071430000000002\n",
      "Num timesteps: 4096\n",
      "Best mean reward: 0.01114286 - Last mean reward per episode: 0.01107143\n",
      "Num timesteps: 4096\n",
      "Best mean reward: 0.01114286 - Last mean reward per episode: 0.01107143\n",
      "Num timesteps: 4096\n",
      "Best mean reward: 0.01114286 - Last mean reward per episode: 0.01107143\n",
      "Num timesteps: 4096\n",
      "Best mean reward: 0.01114286 - Last mean reward per episode: 0.01107143\n",
      "Num timesteps: 4096\n",
      "Best mean reward: 0.01114286 - Last mean reward per episode: 0.01107143\n",
      "Num timesteps: 4096\n",
      "Best mean reward: 0.01114286 - Last mean reward per episode: 0.01107143\n",
      "Num timesteps: 5120\n",
      "Best mean reward: 0.01114286 - Last mean reward per episode: 0.01107143\n",
      "Num timesteps: 5120\n",
      "Best mean reward: 0.01114286 - Last mean reward per episode: 0.01107143\n",
      "Num timesteps: 5120\n",
      "Best mean reward: 0.01114286 - Last mean reward per episode: 0.01107143\n",
      "Num timesteps: 5120\n",
      "Best mean reward: 0.01114286 - Last mean reward per episode: 0.01107143\n",
      "Num timesteps: 5120\n",
      "Best mean reward: 0.01114286 - Last mean reward per episode: 0.01107143\n",
      "Num timesteps: 5120\n",
      "Best mean reward: 0.01114286 - Last mean reward per episode: 0.01107143\n"
     ]
    },
    {
     "ename": "KeyboardInterrupt",
     "evalue": "",
     "output_type": "error",
     "traceback": [
      "\u001b[0;31m---------------------------------------------------------------------------\u001b[0m",
      "\u001b[0;31mKeyboardInterrupt\u001b[0m                         Traceback (most recent call last)",
      "\u001b[0;32m<ipython-input-69-cb81d56efd72>\u001b[0m in \u001b[0;36m<module>\u001b[0;34m\u001b[0m\n\u001b[1;32m     21\u001b[0m \u001b[0;34m\u001b[0m\u001b[0m\n\u001b[1;32m     22\u001b[0m     learner_model.learn(total_timesteps=learner_hparam['n_timesteps'],\n\u001b[0;32m---> 23\u001b[0;31m                         callback=eval_callback)\n\u001b[0m\u001b[1;32m     24\u001b[0m \u001b[0;34m\u001b[0m\u001b[0m\n\u001b[1;32m     25\u001b[0m     \u001b[0;31m# need to load and then save the best model found during training\u001b[0m\u001b[0;34m\u001b[0m\u001b[0;34m\u001b[0m\u001b[0;34m\u001b[0m\u001b[0m\n",
      "\u001b[0;32m~/.local/lib/python3.6/site-packages/stable_baselines/gail/model.py\u001b[0m in \u001b[0;36mlearn\u001b[0;34m(self, total_timesteps, callback, log_interval, tb_log_name, reset_num_timesteps)\u001b[0m\n\u001b[1;32m     52\u001b[0m               reset_num_timesteps=True):\n\u001b[1;32m     53\u001b[0m         \u001b[0;32massert\u001b[0m \u001b[0mself\u001b[0m\u001b[0;34m.\u001b[0m\u001b[0mexpert_dataset\u001b[0m \u001b[0;32mis\u001b[0m \u001b[0;32mnot\u001b[0m \u001b[0;32mNone\u001b[0m\u001b[0;34m,\u001b[0m \u001b[0;34m\"You must pass an expert dataset to GAIL for training\"\u001b[0m\u001b[0;34m\u001b[0m\u001b[0;34m\u001b[0m\u001b[0m\n\u001b[0;32m---> 54\u001b[0;31m         \u001b[0;32mreturn\u001b[0m \u001b[0msuper\u001b[0m\u001b[0;34m(\u001b[0m\u001b[0;34m)\u001b[0m\u001b[0;34m.\u001b[0m\u001b[0mlearn\u001b[0m\u001b[0;34m(\u001b[0m\u001b[0mtotal_timesteps\u001b[0m\u001b[0;34m,\u001b[0m \u001b[0mcallback\u001b[0m\u001b[0;34m,\u001b[0m \u001b[0mlog_interval\u001b[0m\u001b[0;34m,\u001b[0m \u001b[0mtb_log_name\u001b[0m\u001b[0;34m,\u001b[0m \u001b[0mreset_num_timesteps\u001b[0m\u001b[0;34m)\u001b[0m\u001b[0;34m\u001b[0m\u001b[0;34m\u001b[0m\u001b[0m\n\u001b[0m",
      "\u001b[0;32m~/.local/lib/python3.6/site-packages/stable_baselines/trpo_mpi/trpo_mpi.py\u001b[0m in \u001b[0;36mlearn\u001b[0;34m(self, total_timesteps, callback, log_interval, tb_log_name, reset_num_timesteps)\u001b[0m\n\u001b[1;32m    328\u001b[0m                     \u001b[0;32mfor\u001b[0m \u001b[0mk\u001b[0m \u001b[0;32min\u001b[0m \u001b[0mrange\u001b[0m\u001b[0;34m(\u001b[0m\u001b[0mself\u001b[0m\u001b[0;34m.\u001b[0m\u001b[0mg_step\u001b[0m\u001b[0;34m)\u001b[0m\u001b[0;34m:\u001b[0m\u001b[0;34m\u001b[0m\u001b[0;34m\u001b[0m\u001b[0m\n\u001b[1;32m    329\u001b[0m                         \u001b[0;32mwith\u001b[0m \u001b[0mself\u001b[0m\u001b[0;34m.\u001b[0m\u001b[0mtimed\u001b[0m\u001b[0;34m(\u001b[0m\u001b[0;34m\"sampling\"\u001b[0m\u001b[0;34m)\u001b[0m\u001b[0;34m:\u001b[0m\u001b[0;34m\u001b[0m\u001b[0;34m\u001b[0m\u001b[0m\n\u001b[0;32m--> 330\u001b[0;31m                             \u001b[0mseg\u001b[0m \u001b[0;34m=\u001b[0m \u001b[0mseg_gen\u001b[0m\u001b[0;34m.\u001b[0m\u001b[0m__next__\u001b[0m\u001b[0;34m(\u001b[0m\u001b[0;34m)\u001b[0m\u001b[0;34m\u001b[0m\u001b[0;34m\u001b[0m\u001b[0m\n\u001b[0m\u001b[1;32m    331\u001b[0m \u001b[0;34m\u001b[0m\u001b[0m\n\u001b[1;32m    332\u001b[0m                         \u001b[0;31m# Stop training early (triggered by the callback)\u001b[0m\u001b[0;34m\u001b[0m\u001b[0;34m\u001b[0m\u001b[0;34m\u001b[0m\u001b[0m\n",
      "\u001b[0;32m~/.local/lib/python3.6/site-packages/stable_baselines/common/runners.py\u001b[0m in \u001b[0;36mtraj_segment_generator\u001b[0;34m(policy, env, horizon, reward_giver, gail, callback)\u001b[0m\n\u001b[1;32m    154\u001b[0m \u001b[0;34m\u001b[0m\u001b[0m\n\u001b[1;32m    155\u001b[0m         \u001b[0;32mif\u001b[0m \u001b[0mgail\u001b[0m\u001b[0;34m:\u001b[0m\u001b[0;34m\u001b[0m\u001b[0;34m\u001b[0m\u001b[0m\n\u001b[0;32m--> 156\u001b[0;31m             \u001b[0mreward\u001b[0m \u001b[0;34m=\u001b[0m \u001b[0mreward_giver\u001b[0m\u001b[0;34m.\u001b[0m\u001b[0mget_reward\u001b[0m\u001b[0;34m(\u001b[0m\u001b[0mobservation\u001b[0m\u001b[0;34m,\u001b[0m \u001b[0mclipped_action\u001b[0m\u001b[0;34m[\u001b[0m\u001b[0;36m0\u001b[0m\u001b[0;34m]\u001b[0m\u001b[0;34m)\u001b[0m\u001b[0;34m\u001b[0m\u001b[0;34m\u001b[0m\u001b[0m\n\u001b[0m\u001b[1;32m    157\u001b[0m             \u001b[0mobservation\u001b[0m\u001b[0;34m,\u001b[0m \u001b[0mtrue_reward\u001b[0m\u001b[0;34m,\u001b[0m \u001b[0mdone\u001b[0m\u001b[0;34m,\u001b[0m \u001b[0minfo\u001b[0m \u001b[0;34m=\u001b[0m \u001b[0menv\u001b[0m\u001b[0;34m.\u001b[0m\u001b[0mstep\u001b[0m\u001b[0;34m(\u001b[0m\u001b[0mclipped_action\u001b[0m\u001b[0;34m[\u001b[0m\u001b[0;36m0\u001b[0m\u001b[0;34m]\u001b[0m\u001b[0;34m)\u001b[0m\u001b[0;34m\u001b[0m\u001b[0;34m\u001b[0m\u001b[0m\n\u001b[1;32m    158\u001b[0m         \u001b[0;32melse\u001b[0m\u001b[0;34m:\u001b[0m\u001b[0;34m\u001b[0m\u001b[0;34m\u001b[0m\u001b[0m\n",
      "\u001b[0;32m~/.local/lib/python3.6/site-packages/stable_baselines/gail/adversary.py\u001b[0m in \u001b[0;36mget_reward\u001b[0;34m(self, obs, actions)\u001b[0m\n\u001b[1;32m    161\u001b[0m \u001b[0;34m\u001b[0m\u001b[0m\n\u001b[1;32m    162\u001b[0m         \u001b[0mfeed_dict\u001b[0m \u001b[0;34m=\u001b[0m \u001b[0;34m{\u001b[0m\u001b[0mself\u001b[0m\u001b[0;34m.\u001b[0m\u001b[0mgenerator_obs_ph\u001b[0m\u001b[0;34m:\u001b[0m \u001b[0mobs\u001b[0m\u001b[0;34m,\u001b[0m \u001b[0mself\u001b[0m\u001b[0;34m.\u001b[0m\u001b[0mgenerator_acs_ph\u001b[0m\u001b[0;34m:\u001b[0m \u001b[0mactions\u001b[0m\u001b[0;34m}\u001b[0m\u001b[0;34m\u001b[0m\u001b[0;34m\u001b[0m\u001b[0m\n\u001b[0;32m--> 163\u001b[0;31m         \u001b[0mreward\u001b[0m \u001b[0;34m=\u001b[0m \u001b[0msess\u001b[0m\u001b[0;34m.\u001b[0m\u001b[0mrun\u001b[0m\u001b[0;34m(\u001b[0m\u001b[0mself\u001b[0m\u001b[0;34m.\u001b[0m\u001b[0mreward_op\u001b[0m\u001b[0;34m,\u001b[0m \u001b[0mfeed_dict\u001b[0m\u001b[0;34m)\u001b[0m\u001b[0;34m\u001b[0m\u001b[0;34m\u001b[0m\u001b[0m\n\u001b[0m\u001b[1;32m    164\u001b[0m         \u001b[0;32mreturn\u001b[0m \u001b[0mreward\u001b[0m\u001b[0;34m\u001b[0m\u001b[0;34m\u001b[0m\u001b[0m\n",
      "\u001b[0;32m/usr/local/lib/python3.6/dist-packages/tensorflow_core/python/client/session.py\u001b[0m in \u001b[0;36mrun\u001b[0;34m(self, fetches, feed_dict, options, run_metadata)\u001b[0m\n\u001b[1;32m    954\u001b[0m     \u001b[0;32mtry\u001b[0m\u001b[0;34m:\u001b[0m\u001b[0;34m\u001b[0m\u001b[0;34m\u001b[0m\u001b[0m\n\u001b[1;32m    955\u001b[0m       result = self._run(None, fetches, feed_dict, options_ptr,\n\u001b[0;32m--> 956\u001b[0;31m                          run_metadata_ptr)\n\u001b[0m\u001b[1;32m    957\u001b[0m       \u001b[0;32mif\u001b[0m \u001b[0mrun_metadata\u001b[0m\u001b[0;34m:\u001b[0m\u001b[0;34m\u001b[0m\u001b[0;34m\u001b[0m\u001b[0m\n\u001b[1;32m    958\u001b[0m         \u001b[0mproto_data\u001b[0m \u001b[0;34m=\u001b[0m \u001b[0mtf_session\u001b[0m\u001b[0;34m.\u001b[0m\u001b[0mTF_GetBuffer\u001b[0m\u001b[0;34m(\u001b[0m\u001b[0mrun_metadata_ptr\u001b[0m\u001b[0;34m)\u001b[0m\u001b[0;34m\u001b[0m\u001b[0;34m\u001b[0m\u001b[0m\n",
      "\u001b[0;32m/usr/local/lib/python3.6/dist-packages/tensorflow_core/python/client/session.py\u001b[0m in \u001b[0;36m_run\u001b[0;34m(self, handle, fetches, feed_dict, options, run_metadata)\u001b[0m\n\u001b[1;32m   1178\u001b[0m     \u001b[0;32mif\u001b[0m \u001b[0mfinal_fetches\u001b[0m \u001b[0;32mor\u001b[0m \u001b[0mfinal_targets\u001b[0m \u001b[0;32mor\u001b[0m \u001b[0;34m(\u001b[0m\u001b[0mhandle\u001b[0m \u001b[0;32mand\u001b[0m \u001b[0mfeed_dict_tensor\u001b[0m\u001b[0;34m)\u001b[0m\u001b[0;34m:\u001b[0m\u001b[0;34m\u001b[0m\u001b[0;34m\u001b[0m\u001b[0m\n\u001b[1;32m   1179\u001b[0m       results = self._do_run(handle, final_targets, final_fetches,\n\u001b[0;32m-> 1180\u001b[0;31m                              feed_dict_tensor, options, run_metadata)\n\u001b[0m\u001b[1;32m   1181\u001b[0m     \u001b[0;32melse\u001b[0m\u001b[0;34m:\u001b[0m\u001b[0;34m\u001b[0m\u001b[0;34m\u001b[0m\u001b[0m\n\u001b[1;32m   1182\u001b[0m       \u001b[0mresults\u001b[0m \u001b[0;34m=\u001b[0m \u001b[0;34m[\u001b[0m\u001b[0;34m]\u001b[0m\u001b[0;34m\u001b[0m\u001b[0;34m\u001b[0m\u001b[0m\n",
      "\u001b[0;32m/usr/local/lib/python3.6/dist-packages/tensorflow_core/python/client/session.py\u001b[0m in \u001b[0;36m_do_run\u001b[0;34m(self, handle, target_list, fetch_list, feed_dict, options, run_metadata)\u001b[0m\n\u001b[1;32m   1357\u001b[0m     \u001b[0;32mif\u001b[0m \u001b[0mhandle\u001b[0m \u001b[0;32mis\u001b[0m \u001b[0;32mNone\u001b[0m\u001b[0;34m:\u001b[0m\u001b[0;34m\u001b[0m\u001b[0;34m\u001b[0m\u001b[0m\n\u001b[1;32m   1358\u001b[0m       return self._do_call(_run_fn, feeds, fetches, targets, options,\n\u001b[0;32m-> 1359\u001b[0;31m                            run_metadata)\n\u001b[0m\u001b[1;32m   1360\u001b[0m     \u001b[0;32melse\u001b[0m\u001b[0;34m:\u001b[0m\u001b[0;34m\u001b[0m\u001b[0;34m\u001b[0m\u001b[0m\n\u001b[1;32m   1361\u001b[0m       \u001b[0;32mreturn\u001b[0m \u001b[0mself\u001b[0m\u001b[0;34m.\u001b[0m\u001b[0m_do_call\u001b[0m\u001b[0;34m(\u001b[0m\u001b[0m_prun_fn\u001b[0m\u001b[0;34m,\u001b[0m \u001b[0mhandle\u001b[0m\u001b[0;34m,\u001b[0m \u001b[0mfeeds\u001b[0m\u001b[0;34m,\u001b[0m \u001b[0mfetches\u001b[0m\u001b[0;34m)\u001b[0m\u001b[0;34m\u001b[0m\u001b[0;34m\u001b[0m\u001b[0m\n",
      "\u001b[0;32m/usr/local/lib/python3.6/dist-packages/tensorflow_core/python/client/session.py\u001b[0m in \u001b[0;36m_do_call\u001b[0;34m(self, fn, *args)\u001b[0m\n\u001b[1;32m   1363\u001b[0m   \u001b[0;32mdef\u001b[0m \u001b[0m_do_call\u001b[0m\u001b[0;34m(\u001b[0m\u001b[0mself\u001b[0m\u001b[0;34m,\u001b[0m \u001b[0mfn\u001b[0m\u001b[0;34m,\u001b[0m \u001b[0;34m*\u001b[0m\u001b[0margs\u001b[0m\u001b[0;34m)\u001b[0m\u001b[0;34m:\u001b[0m\u001b[0;34m\u001b[0m\u001b[0;34m\u001b[0m\u001b[0m\n\u001b[1;32m   1364\u001b[0m     \u001b[0;32mtry\u001b[0m\u001b[0;34m:\u001b[0m\u001b[0;34m\u001b[0m\u001b[0;34m\u001b[0m\u001b[0m\n\u001b[0;32m-> 1365\u001b[0;31m       \u001b[0;32mreturn\u001b[0m \u001b[0mfn\u001b[0m\u001b[0;34m(\u001b[0m\u001b[0;34m*\u001b[0m\u001b[0margs\u001b[0m\u001b[0;34m)\u001b[0m\u001b[0;34m\u001b[0m\u001b[0;34m\u001b[0m\u001b[0m\n\u001b[0m\u001b[1;32m   1366\u001b[0m     \u001b[0;32mexcept\u001b[0m \u001b[0merrors\u001b[0m\u001b[0;34m.\u001b[0m\u001b[0mOpError\u001b[0m \u001b[0;32mas\u001b[0m \u001b[0me\u001b[0m\u001b[0;34m:\u001b[0m\u001b[0;34m\u001b[0m\u001b[0;34m\u001b[0m\u001b[0m\n\u001b[1;32m   1367\u001b[0m       \u001b[0mmessage\u001b[0m \u001b[0;34m=\u001b[0m \u001b[0mcompat\u001b[0m\u001b[0;34m.\u001b[0m\u001b[0mas_text\u001b[0m\u001b[0;34m(\u001b[0m\u001b[0me\u001b[0m\u001b[0;34m.\u001b[0m\u001b[0mmessage\u001b[0m\u001b[0;34m)\u001b[0m\u001b[0;34m\u001b[0m\u001b[0;34m\u001b[0m\u001b[0m\n",
      "\u001b[0;32m/usr/local/lib/python3.6/dist-packages/tensorflow_core/python/client/session.py\u001b[0m in \u001b[0;36m_run_fn\u001b[0;34m(feed_dict, fetch_list, target_list, options, run_metadata)\u001b[0m\n\u001b[1;32m   1348\u001b[0m       \u001b[0mself\u001b[0m\u001b[0;34m.\u001b[0m\u001b[0m_extend_graph\u001b[0m\u001b[0;34m(\u001b[0m\u001b[0;34m)\u001b[0m\u001b[0;34m\u001b[0m\u001b[0;34m\u001b[0m\u001b[0m\n\u001b[1;32m   1349\u001b[0m       return self._call_tf_sessionrun(options, feed_dict, fetch_list,\n\u001b[0;32m-> 1350\u001b[0;31m                                       target_list, run_metadata)\n\u001b[0m\u001b[1;32m   1351\u001b[0m \u001b[0;34m\u001b[0m\u001b[0m\n\u001b[1;32m   1352\u001b[0m     \u001b[0;32mdef\u001b[0m \u001b[0m_prun_fn\u001b[0m\u001b[0;34m(\u001b[0m\u001b[0mhandle\u001b[0m\u001b[0;34m,\u001b[0m \u001b[0mfeed_dict\u001b[0m\u001b[0;34m,\u001b[0m \u001b[0mfetch_list\u001b[0m\u001b[0;34m)\u001b[0m\u001b[0;34m:\u001b[0m\u001b[0;34m\u001b[0m\u001b[0;34m\u001b[0m\u001b[0m\n",
      "\u001b[0;32m/usr/local/lib/python3.6/dist-packages/tensorflow_core/python/client/session.py\u001b[0m in \u001b[0;36m_call_tf_sessionrun\u001b[0;34m(self, options, feed_dict, fetch_list, target_list, run_metadata)\u001b[0m\n\u001b[1;32m   1441\u001b[0m     return tf_session.TF_SessionRun_wrapper(self._session, options, feed_dict,\n\u001b[1;32m   1442\u001b[0m                                             \u001b[0mfetch_list\u001b[0m\u001b[0;34m,\u001b[0m \u001b[0mtarget_list\u001b[0m\u001b[0;34m,\u001b[0m\u001b[0;34m\u001b[0m\u001b[0;34m\u001b[0m\u001b[0m\n\u001b[0;32m-> 1443\u001b[0;31m                                             run_metadata)\n\u001b[0m\u001b[1;32m   1444\u001b[0m \u001b[0;34m\u001b[0m\u001b[0m\n\u001b[1;32m   1445\u001b[0m   \u001b[0;32mdef\u001b[0m \u001b[0m_call_tf_sessionprun\u001b[0m\u001b[0;34m(\u001b[0m\u001b[0mself\u001b[0m\u001b[0;34m,\u001b[0m \u001b[0mhandle\u001b[0m\u001b[0;34m,\u001b[0m \u001b[0mfeed_dict\u001b[0m\u001b[0;34m,\u001b[0m \u001b[0mfetch_list\u001b[0m\u001b[0;34m)\u001b[0m\u001b[0;34m:\u001b[0m\u001b[0;34m\u001b[0m\u001b[0;34m\u001b[0m\u001b[0m\n",
      "\u001b[0;31mKeyboardInterrupt\u001b[0m: "
     ]
    }
   ],
   "source": [
    "if load_learner:\n",
    "    learner_model = GAIL.load(LEARNER_MODEL_PATH)\n",
    "    learner_model.set_env(learner_env)\n",
    "else:\n",
    "    learner_hparam = hyperparams['learner_gail']\n",
    "\n",
    "    learner_model = GAIL(learner_hparam['policy'],\n",
    "                         learner_env,\n",
    "                         expert_dataset,\n",
    "                         gamma=learner_hparam['gamma'],\n",
    "                         verbose=0,\n",
    "                         tensorboard_log=LEARNER_LOG_DIR)\n",
    "\n",
    "    # always use deterministic actions for live evaluation\n",
    "#     eval_callback = EvalCallback(stable_baselines.common.base_class._UnvecWrapper(learner_env),\n",
    "#                                  best_model_save_path=LEARNER_LOG_DIR,\n",
    "#                                  log_path=LEARNER_LOG_DIR,\n",
    "#                                  eval_freq=learner_hparam['eval_freq'],\n",
    "#                                  deterministic=True, render=False)\n",
    "#     eval_callback = SaveOnBestTrainingRewardCallback(check_freq=learner_hparam['eval_freq'], log_dir=LEARNER_LOG_DIR)\n",
    "\n",
    "    learner_model.learn(total_timesteps=learner_hparam['n_timesteps'],\n",
    "                        callback=eval_callback)\n",
    "\n",
    "    # need to load and then save the best model found during training\n",
    "    learner_model.load(LEARNER_BEST_MODEL_PATH)\n",
    "    learner_model.set_env(learner_env)\n",
    "    learner_model.save(LEARNER_MODEL_PATH)"
   ]
  },
  {
   "cell_type": "markdown",
   "metadata": {},
   "source": [
    "### Visualizing Learning"
   ]
  },
  {
   "cell_type": "markdown",
   "metadata": {},
   "source": [
    "#### Visualizing the Learned Expert on the Original Domain"
   ]
  },
  {
   "cell_type": "code",
   "execution_count": 36,
   "metadata": {
    "ExecuteTime": {
     "end_time": "2020-05-01T09:43:59.554228Z",
     "start_time": "2020-05-01T09:43:59.326948Z"
    }
   },
   "outputs": [
    {
     "data": {
      "text/html": [
       "<video alt=\"experiment_data/expert_data/videos/expert_ppo2_MiniGrid-DistShift1-v0-step-0-to-step-500.mp4\" autoplay\n",
       "                    loop controls style=\"height: 400px;\">\n",
       "                    <source src=\"data:video/mp4;base64,AAAAIGZ0eXBpc29tAAACAGlzb21pc28yYXZjMW1wNDEAAAAIZnJlZQAAIO9tZGF0AAACrgYF//+q3EXpvebZSLeWLNgg2SPu73gyNjQgLSBjb3JlIDE1MiByMjg1NCBlOWE1OTAzIC0gSC4yNjQvTVBFRy00IEFWQyBjb2RlYyAtIENvcHlsZWZ0IDIwMDMtMjAxNyAtIGh0dHA6Ly93d3cudmlkZW9sYW4ub3JnL3gyNjQuaHRtbCAtIG9wdGlvbnM6IGNhYmFjPTEgcmVmPTMgZGVibG9jaz0xOjA6MCBhbmFseXNlPTB4MzoweDExMyBtZT1oZXggc3VibWU9NyBwc3k9MSBwc3lfcmQ9MS4wMDowLjAwIG1peGVkX3JlZj0xIG1lX3JhbmdlPTE2IGNocm9tYV9tZT0xIHRyZWxsaXM9MSA4eDhkY3Q9MSBjcW09MCBkZWFkem9uZT0yMSwxMSBmYXN0X3Bza2lwPTEgY2hyb21hX3FwX29mZnNldD0tMiB0aHJlYWRzPTcgbG9va2FoZWFkX3RocmVhZHM9MSBzbGljZWRfdGhyZWFkcz0wIG5yPTAgZGVjaW1hdGU9MSBpbnRlcmxhY2VkPTAgYmx1cmF5X2NvbXBhdD0wIGNvbnN0cmFpbmVkX2ludHJhPTAgYmZyYW1lcz0zIGJfcHlyYW1pZD0yIGJfYWRhcHQ9MSBiX2JpYXM9MCBkaXJlY3Q9MSB3ZWlnaHRiPTEgb3Blbl9nb3A9MCB3ZWlnaHRwPTIga2V5aW50PTI1MCBrZXlpbnRfbWluPTEwIHNjZW5lY3V0PTQwIGludHJhX3JlZnJlc2g9MCByY19sb29rYWhlYWQ9NDAgcmM9Y3JmIG1idHJlZT0xIGNyZj0yMy4wIHFjb21wPTAuNjAgcXBtaW49MCBxcG1heD02OSBxcHN0ZXA9NCBpcF9yYXRpbz0xLjQwIGFxPTE6MS4wMACAAAAMjGWIhAAQ//73gb8yyWIkrJciIvCjffFJe6P/fXppZaEOXrCt/9MkdctOWcWYX7+dqmB0ywg+1CR30yRxixDRxHtVXuPbDqWrwp9XSPy6ciXPoo5C1Jeft+IJb0Pf9b65nQbMOiVHX5iU4pd3f0OrRpketTCkq5StIVTK+ENUKgHxU5/fQUvYw2cxA7Y70bSCfC3LRTZm/B7ViXh8F3EwnzTGmDVP+cotyjaGqgcJlN3wTczkAFcwqS2SjXbCBVsHQmmlKw8ctOo+XiJaP/FVlsy534DCUf3Snstu21Xpf+pJo3XiMg6lmL5VKp3EAm/PXliydPVhsKf+q0SXo5x+LspMBzjNVhifaSNds9rq9wFPPbUbAFQQ6Ypz051nYF2UvEtoJ+b2bZaHeAYV0fSr7Kh3XPF24epFJsbHCE7U/8kEDVaGAG/0NeCwJZ2FaoOHOmHu0D5EFu0m65L6qY/51aCCyBYS+yEVS7gyQo1r+atlOmXKkZKYJcZCkDJwbtS8+3GRLQPT1qZB0eyH6ar2GnyU+tUc5AGRmdXZB43bTtzgxKAOkWTkwtVAEu7HmbmDsQkOp05Xwxb9r/xH00i3fIug+8yKiq5+FDG5orP0xzgNAkXvfLTa2HkfyIcJTq3JBjr0ha8NbpzsAHhtyXHoRkTPa88u3qg4c6bngyUhpUIXuapeqHfWBcbEkKSwznBA3DIrl66P9VHwF1s+CLu4qyg0MmL/9kqIV1AqcReDg92M6+J7Xuoa1FdWX+Lw8iJXJyS+S4q2vbf80Sf7KYrue4LXDYDp5dmMASQ/NMWUaCLCL18G6jkAuLxi4t9Sz7aJRXkrmXPbCt1dnMyGLy9lBTH+mvPQ59we5e31ef7/PpQknX73LYnFyRkAs/tzUFMQ8ynRKMCVqAyeQyW3bhRB/sEgNiZsWijeNlMX9Ak8T6Ni+Ufdq6sI6aY7M6xpsf9E415PvN7GP6R1slcM/4vpaaPl3d0BupyrfXzfSCwVpfavgsZNrhbTGMSDZ+8K56WaQ+mjgQJrKYwgnnNiBzCdI2vA0rQd6gF023NDWOnnT3e94dyNQjtPc9JuGqWjrJ1DGwJuoWOzFuPMJQQh6mBkZ4mF4PjcBQOsgoewhiCc4quZ/Gi/SiGpD4Wi0/2PqA+jowkWtf2df4qCqDmdnEb9FTWRAVOj+qxKRRQWevVSwoQRLiG99d8xlgjL5J22M1o6LZazpaOMqqOMYL8FWNscEBSpoYHjoi15y0lWykDHjmaTdyRRrO1jZxPucKC276VNL/ZADkAQRN8fS1gyRLzcCnOPZafD63OYTsMjBR1Lk1A6F0GhWJO6lPkaVEZJWDuppxETUivs0Y/mU3KWQZSdjsohwlCe/vh5nSOfFDpcplqNlRWTgLkpU/oipST7pLLSrXg8zMWNUkP9BDyGCBgL/ldZr0vejX+96916A1+vfvPPZ1ikCRkh1MtV5xjZLHnVgPAhqRIbDYi//6uhqwbo9APWbyjXpfVv5B8lhOuQnIddlL+ww/yD85Cg4UtZ7mqNKmNei4mxVrecizy35k80mVJ6ylIjbHPrpzyMnZnNhrDOPDW48imO3lREJ9eOUBB0e9VJFlhAd56kGbOEHfP0nGBv/nIqIXnRwziXdVOyfNLmQnkTpo8Aiir5wQLkbO3+4YeHvgJjKm9xGo3hSQ71AD5vmA+jsmHoVGG4Yrmtf3TjPFbIKBS9q3nzyuZ6OlEpZ7aycyeiCOaSvs95cuiXpYB8qDJjeiew+LgPUQ3yLg+S5AUBsh6ltjJX4dQYwVX8vEHUic3F75bvIYLhb2a7G0jLsGBQ76KzturIILNDIwSDVs+3xz3x61pEkZPCG+prbQwzO+IgKT8Pl17bwtIYaciIIUq5TVxqdqyhPdOW5D3UHItRkC6ZpkxVdS1GFRRoRsp7FbLVpe1wVDBq/NP88436zSu7GeFfMPmCsoZpRSkW6DHsPTM3qHbVlkneV3ivimTJJyohfSrZJVKT7gCMkrXRfdtYC0FTuhfoK+8AeQPIAcmlIweQ3PlpnBtQ667xTy5o3J0c2zpnkeaympKnnfobn2y8i7Qd1/Ea3EVzlmJXx22KVBlPo3DI5JwJ8qXE69H0ctTxjM3VanQE4jr5yB29f5bZsLEBggUDHEFCEP3/Ntmqvh/8omJqiZuRsCmgYjxPGBiMTBFLxHYZ9QIQFbkzMMdGbvB1crGF48lu7EF8N2+HqsLOtKaj0utgtKtjFCh1/ysljvbu2ZE4T2YtEDeRhBPc67Oi5EFngbTpPBhrNJRya2dl4GxOMPM3NO1HulcibiGVlK42OkR7CkhUVv4VrHi13j7KdoRKzR1EUft6au25VYqAJriF+gqB/qMy4HjBgzBbsNTUQLv11hHIE5ehRH/So6seYg1MdpuFhDNuN4rSAO71RmaT9wD1YSaW+IwBCx3RYLyCm5rYzmmzxuhYpzbc61XOM1waEqAtHWe/1kNYa629azufdfKu+7fQmANjTI19emuVT9djZrEPGdLUyqcN7f/UEVCXTzuXh4NOL4+kA1v4qJ2cSCNf1bVIGJj68ZJDeOkdMQpZMWOOUMKqLLAuDQbDmxkgU5bzDQGH/0i5Wh046J9JIUmROZA87etpMTxiSidIHBDxyMxZHY5U1YkqeCHPaMrWOaUugzn++cAY2W/u75fJg5JNKuDlJ+3NZMMFRkFFX3LeL3+fCAr4E7oqitmY9vMjvkSBkeRS4P7yhrAQOd7QjQQjuDjgEbsxgnHnXPOnbPuh55/lywalcXzGfl4so1elh7oGWOT9PjLHmw+ViquubrQpRBp9OrEM+3YGW1/I3XLg7cQv7e0JbziS3vftedy6NoCQ8nH3FEYDaVFXMMqfAWUlY0YfBEX9zPeqcbHQPZHsbgdK3DEvdyPvN1BpHjWTnDuGV/wsIaREtNhM/ofFiuP91+a8dWuSVVQtodeCelNOl+JcNRGy9xq6qlpF7P/IjLaDHLHZ10s806jarsB1/xAYVkEFNx5ZCAdSG+OjAnuLe4sWZjMspNw6JMCmFT7QiId4tfdyCleOR47IOzYCu+5wpZ4QS5vYpGF+gUzdaSg1crRMsOg2ZqX1A4HzwS6iqnaj5Hm+K/UUoGx5hbJ1WtT0bqv72ROiA0Jrye/P4FzbduF1B3SXKGqGpeVW38NXNgHGSJmeNs6UXYa7a3LIA1jC8N9XY2iB1wfON3jEJ/5/0rNUkPD+5a5RlThUCAjBK//1obHtGk3gZIcZvnTZTBrMUSHVrSJk5daQ73UacyS7FaXx2WzmLUcKPmgJ9pcyZ+p1j3GShbW6xm8y2l9KgHDavRZxersnmw7zNoaGr3uEhTEz4zlA76j/yj6LUB/pDCwJ1Fn8Gp+su6w1twr5/v3vwN/GgFAFyUXWUyJKrpDJVHGcHxOzHY85qUkvVIAh9imdwKXjRsXox/CNgtv6ENnPng9soJs3W4HaDmuPIDwRfeRn2dnGog/4QKctsahNgLYh5A7KDypy5hNWtI0HAjaeJQOaPkQlvjiheYvDDEBOVM4MtiItS8IMz+GZEguCkV3G37GBCMG3EaTTVf1Xyr6MgJlb5kc6FvZktEyV1kEVYYGVoIAbO6bLB1intC0/C3EfgCPwOOBQzCnIga0dQHfnmg5LyjZIs6n/L72hWCLZ48+mzeRYmZKj7R39GPDKU9ujkOCUbN3j/IackSSu/BvGzF97+bn9HQGt5IuzDIF3+upxEf6ys+OhuUG69ct3l75k8CY5Rz6FyxmNTgJjSEwaZ2bUVmJVJZJHgqAnOQ37oCZo88vDnm0dnBPw7sOlMO5V7sCR1Jisy5UzHt573PfNMQch/83GDRlZfPJ6spMNePbcfxVZePrSMk8YRvleGPgZVUEs7NbrW6MYHPAQKoa63vK+8UT2m1jHep5oSrvQxVRer6ZCr/OgbNkE0A3zCw/A1GcZfXjmc5L3IFLptIef2dHVTtSK712k0yU+Is96ITpBsl9FF1ad/yiQHPghrBNUc8P1uBAeXb8JlmkAxy0Tb/L76kqubwKH0fCLI2odOnXcVedubH/+t3CJLoy3MHqlVZAyNuDo9K+l5MMytzCLrrrCBbxX7kGCTip+2Cz2tCepfNQlPIjNDQBHG8ck83rkqh8tnUHtHKZJCvDo+vXtZBGpfcIv3Jc9dtpaEPgL1yfwAswS2tIdtIxTyg4N8OC5+Ut6YdC/k5EiEIU9U6vy5Bam39yQ4ggBLpKDFFaPkHcGATCGXAHt0uNAJGbw+tp4KaoUwAuW2Bp+kgcaAAXVAAABK0GaIWxBD/xi/D2qXp+1fRcbEbJd1SThB7iy3DGeqlgS3XJUo/XMqGlwRuhqNOl6k/UvRI+eCcpR/9cEiOjmAbY+IGsWPS9sBc+9OeWwBptHSFyfr8cYJGF5A1OhZj2o1o8E8+O3vpV9JOcHTDmp9+eAx7Fg/Vd/Jk5BUX+gKVV/v0oeqxcIpf8PGiDF1xQj15Va1oY+TMK28423Y/RColffRyXlBABtfMGvDnmasZtOs4qrRCoIduRq6GY+QEVo0G+mR5E2udJUUnn3KUWy8gTpk7jsB92XlIZAATGqjpv5mB+3ov703jLMHTt8viHP7PTFgvTvB3Qa2qwBveyfO0u48Lvx9bU5ZM9oJoACWmCRROXpSriWLRl3UD3N8LkeTC22CLdKewGcy4fAAAABT0GaRTwhkymEO//+qZYD9JorgPedtA7jUetQATt8PZl2N/9cnrdkhIIsr8y29inxiApkEZzzSLhQzF2F015+jEEtWJzyUcmRTyQI/Tqfyy07TV2ZdragNnziDIuWsYM+0005A7J0maFyc8pbSf8jWU+E0dVFCu3blcoBsGMoy1RhYwltf0KkpIZjrGU6DHJ0BJp3mT0GUORgU2QcL1UiFNkQ1Ae4VVEiwS14dKZY6QufnWUr/D0Pfi6RKmovsv+fNDVGkP/xdYHH368TuV0G2PZu8sxGMpv4mYwIkIGJr6fA/2AS4KnK1i7n3GgBn/F4N7mYHnnr0aI8sia6y0W+WW4NYMtkBb78itZJ7sleP0ShuaQpbwU00/MoAqc9ZgCwGC5UdOWq9Kwh6EQu57Mnt4tj4vMKlxMtHyv/84ONUOQEmfsxcCkHBA1AAAADAAuZAAAEP0GeY2pTw38/sDR7UdhoLUfaioVKy96S2mbduZeZ+TCH0DtHFBxLqOzEn46fmg2E0mggbvn7uiXzmdphSNoMJyj5yQBbLhsftMxzjhS6ZypUj6fXz4hUqScOdWBS9V7Pj8/DuO8KRqfehqgiwsfbOAjRW7iOq47qMYFC8xkfCHJ94GtwbezEpo7wCpunmyQdM+dRDc3gECB2v4zawI3rGYfxebmmID710FIIjupmfrviv7PUjxOPNjryEmXaaqqc3m8jFvHzXLxUxfM3Tzn2rz/c+wzUquhU9PrQi8CZr0RUgpu6TlEsR4KTCfS+Ycd4/7Ya9oK49v7rLaHZJE9j3t4uNW5QiL13/8KpUL4lJNIuOdfW270B6wgGLuJCpvxZDVLQVldMXtBu4FG65FYzHuPsIwczSbSm8lwf0+rDhB5I2VAz7gvIgplJVv1N5qUQdiXRxWoLhNfDavhBqVEPYx0+5l+2Cyjcash4h+11sYz5kKf+Ej7ZOpv2aW8fbjolm9utHZ8kpzavGDH7oDe7QWZg2k+ndKM1wOCIlyMUpT77y3qYj/SRbFQCAJ94jnn6LwV+4FMg4nHrWSJ121sgwKZP6YX68j3GGVuqYcEB/sw2gL+dqr66gU5MbFRcFQoEWMueWTxQJBIwm8+obUYRzBtGMud+zuzvoPUQs6ba40Wcma36CFRsRMZpxKL0L1FIJHYHGfqBef6FzoEPft51n7G6OdRXIYJWSWU6n48yYK0ILdmRmBHMXpezmPdHZWTIoY8IYqzPkun4oJc7QAC5gwtFmrYYwtGkaATCxyAv05Ro2QkbIeOrZfgcPwgcydHFotpaTmo+NMercrBMDU56ANEa2Y7LO1HK4y4nLUUV/la4VeU02msjzvDtbIlGryoVAiW6GeFW5JWuT/JWFYoyLb6nFHBsmI3OL9GvEHVWeLbLFAPv/8QYvQLFX+W4+lIUSgFziAH2Kr+XQWfB/LieQFA7Zt6sSJVvlX9ZG7rOaXKeFN+UvNuWQgiDiPNV44UfzDofRF0sNh/ebt7rI0dcOMwXGwYMAtgkiKNAeLkC8nGdYuKv5Afwb112K1N6e2LLsvfPIVUTbib0h0Km1QjeFhhS0uxQ9bJk3yxyE02eHjKQeKAlizS14hc9uqEu0wzaZa2JJ0yF0nq58qNn22fydao9SgP8dm0uhyKLwRJskiD5bWi9dj4HHOoJyEom0Mak4L4N5saTo0tlxgq90Bdvrm+aoIdLoAJjyMVu/DDDrDMmIq9A4s87wNWgwy9gCTgLOldhv3dDt6sDXuEIqSsD/VPIBPr760EPS1v+YJhyJSXVNa9E653wFghEGimU+YduhV/NWF4sJydnL/1s3XFbeb8sPi+qAt9m8RWPJqofy2zPyuoJyQCdKMoNN/0xR00rwyxGqfmpiOW1EAWXLQllnyiM+1DaAlvxok+jaPDTu6AAAAC/AZ6CdEN/R+aJg1TshT8Fq4L/+EnPTgwWqNz9myFI03ABEvFonJrDMsyz46+ZLU1O3xxKH5aY2S0mh+dhG8x6Ao1I6+KC+eD1aL57Xy0vfojy+mV0I4ryPP+tJM5cjGcTU8rzeOGPRByeBzfqHI/dky9Ex5l+pekYhp3VpKehwsHAtmQnhahNCFEgaubuMGqPMjkTw2iKfszygHQVtU25AGDQ+vStF1c9LttpDJwPIZRlUCqpq19UOKcAU93b5OEAAAIgAZ6EakN/SGsvh9MjRaJ7jLtBc+otlXO+IATAf/7bRWuAmcJ1hz4SByphpzMXhSszCpt5hZd2MvIyPpjrmt4SAN9JDuVh6A3F6paTvRr5yFYi8HO9TRu2S2sfVqIk07IBmhHQHWSc3StxmwTQR6oITlmJI4Nqo/KpA1v2OlwSPFzc/KvrJHJOKglyoPQ6fHpcHLtDVt5/6ZXy08ujHxdJFh98mRWT+JBeEGfmbcfrpKGr+0kKV/LpKGL6yu2VIp/0UwZ+oIwMvqwLAMaCXUpq258RNiQWUWQHG5yXcmWIuQCphu4WUmbVYFumEX4MAFtdS2KBz/bNZaSpZRhhANHKxm7UPFY3OtAS4LYMS/Qx9iKfZh0T5bN0ne7PTMioAv6qED6SMO1vqc63mfcl9UbSCl8fjZ/vzSo5L33LLEwcwLWIX60TVFoJ8C12skJzLSsk2ZUE5rxP7s/UdP1gpUAHrjGmlLF5isoT5LHQJdSgfuIckedSAD+iToYQKrvRwWXiMspETf22qNfV2HwSbr5C5wgum4AeY9dd08hx3f/mpwv61sOvyprZFKkIeybG154H9m1midpI9VrnFWO846Np/86f86DFisRVcAK4++v7enjGYFbYeg/WSMnAV6bdGxXy3fVzdfD9XzraXVAu6sa970vzpnmSIwyYtwU0J8FxkRZ000x7n5wmv+vD3bHZqjd3WudUA94Qs1M/PoCOIths4QAAAsJBmolLqEIQWiHPATQFuAsAMICmAmwE0BdAIb+N/WGhnH7uHG2/Kijw6WOsy6MV/gUXl33yAT9NmplVoQaUafCXhxwmHj9GrAU8+khgPxKgDP6+DAB+07iZu//YLcXRrEv2zZYDsCBSfdp91zqGFs5jfbyWU25u43swp/vcLFeumZBMVmUoDk2dUmyDlCfE6uDBObmJiVbRH//9tormg2kghnqShWmXvOZh6pf5Qx0KaPc3uxYm4DZHy+s2c1fkBF549R+ZTaYfuR+FkKFby62x+FvbNb4vuczqhh3XwSUKew3THCxNncMCDVg4l2vLDzlzL2jeFJua+wh2UcalLaYYXOjBdHMpg0w17/+wCWsrooWPVlhQBKfABLJ8BU4P5ZMKIAUwngZmof/mf1gA+v/Tuz4HFwOOT0vrFFNfPqhVWceuQVn60DcHJeFw30Co4AGaueKhz+A65YHKaM94R8prCeH45JISN97k0gc9w8dXLSTKEJWShC2A2q9OZVQSwMpEg8c2UyZ0kabkibBetI5Do7n4I2mB1n/8ZOaYWY/jalx8P6f+1D9xADVGXqJgVrv18W5C4+vGLGgPoiZjgtXUMaxjNV/S+i/Cpyf7avMQAOXmsS9GK85PTcKS/vkuupTn5VBtZovyPit7tUGknCqegXmmnoVofE9T2zK/BzedtanW04u1T8C/wCUXyeN8YV1Zq5dRwhTx7SSRDTx3KHFUQbfcrYj90DquZohp7SudbWWqaIvN08e0SYNqEBXw1Yrjls0Q4rC2Jd/3cQuwKhqM6F4uEg+plW91TCtNHtKIIaYInHyPVvgHnmIDFZcwI38xbCXMnCfvugHmk0ilbAQLmaGdMdQnO4f5r0lA9hN7PdTVrgXlefBjlMCHHVKR2AhG9L60sRt0vWxZ6s7jcH5Pji2tVIxyg8By8U+3EBoAACLhAAAAQEGep0URLDv/QpF8eoYpatTvsx/4t/uOzkxxNBJzN8hgnUSNcIAacvEO4X/joLGmDsdNr9Fu5XHBCPWUYVCl3UEAAAAyAZ7GdEN/R+aWVsGGoaZ6bh6jieqIQRBgZY3dvF3UAeJxGTAGzZpoXAJJNP+5ZOGPe8AAAAApAZ7IakN/HGa3Pa9kowxl6n99XXYBN2+RjR/4HuRKnQlfJ6aj39T5K4AAAAEyQZrLSahBbJlMFEw///6oGmIPkEDwRV6X2xPTpcu6HmoDCAKaE/J4K29GAFtHmYkrs1/pfRf9BF/pAAPBv8W0leTF7szlIoNsML9s0oiJ4Qw09xt4l7E3Xkx5qB/lAyQ3hk+tc3dYFLNhwM/kH9y9uYStE99zBUjlyynzYQQqUJTHbakN8sAI27YzESz/je+qFJIwP30bcIS+eefXSU9dre+VCYSQdQCGHSoFqoO2kqtnhB8UE2UjV775glxuBBNqPYsOsOpR+tflG+KyuSc/IfdhPgJuPYv+de/noxhIv/DM45LCsYUlG1n35oJuBS6ifOy7gjecileaZLltOvMp6I/Wx/qx3dfmCBBmo/iczQiiigelCXLpym7UGHxpnsV8HnXSZxd4LiFhptQbHxBC6ARNAAABBwGe6mpDfxyDhAJdtagKoe48L8kMDf16/htSCAEk7/WERC+3yMy5D0tMcXAbkmTxKPsBUJYbsu1b/JRp1bbjZVcpbBsVAQ2lX/R+iQa/aFlx2cfM5z/6emoCqGIg9Uekqp7q7Z5/8vsENqB1tOl0Pvv21wQxIc2QK+rQAAfEgFMt95++5rqq8GLs6+nV+Oyd1ZhJQQODBYi6mWb9PU6GH/Hgbuvv4GRNmF3jnIFptBmTXwuR/TOhkdMa6DSSKJbEDVzObl6ouUqKLNyBXEbdsSb0fcQb37dDClViwV/eu53GAAxc9DINBuKqI0aUhcXExIC814AAEJIuXQOJM5aOo+tvWKF6CAuwAAABbEGa7UnhClJlMFLDf/rd2bBZq/f/hJz0/YOjQpRrA80jploNzLJb+TWkGmSMEj9ZeNIfJ9Lsi0E/Aa3gBY3c79eEDhNRRgUSy5fxeo3vwvochnPIIuFDLrTTb3wvW/AV1S4zybMbx/ikB86NQFUlgSHY9C82cuIMithr6iSzcrIFE1ge8x+ebLJjpoSrKF0NWV3GfF5PCskIpzEUmxwmaFF+NA9R8ScBc5/xmmBRBsF8QaV0pB05i9iLslw4+SsFUBPpM2f/DWGhq2KB6R1ky2M0EvFEmk0NVEbIOF3WKsgzW5CFbZN1uyPzVJlaH2EpNhg9hOlVeSNuFMPQ0WKyBBq73AjDsAeNxyAM907Qgg++UL98YVBHcvLItdVZ3xuiLiw969Hw86u4Ba/jtgUi90YrgEJDXTyKjIHmwqxJClH6+nrBdTvm4B/7qvnVRCYJApI5MVwA3ItZx1p+wGERLAAANdJyPy1h8XC59VwAAADXAZ8MakN/g0MS/KY0iiC9i5Z6AFTOxB1Kt2ct0ENZjx1LnIgJpOlcMmH6BM63B27SmSFvgisKnDQozpln7vDNr1JtjWyLoEXIX26WEfrD9wqjwwmAfmaVpAO/ssigVO6wtWxq8lRTmhc0FCYqth68NiKnaQRpIpfq0CU0wXn9RWcLdE+Ti5fN1z2hUuSZW5RtQFs19fPUllOHUlpRKCs5UsR9cY4iBKhlqTEYNNuwu3V6JfM6nzHS5hRZN3KUlSyjhol0QF17yioTW6hBUSM4fWgsNOa2JLEAAAOybW9vdgAAAGxtdmhkAAAAAAAAAAAAAAAAAAAD6AAABXgAAQAAAQAAAAAAAAAAAAAAAAEAAAAAAAAAAAAAAAAAAAABAAAAAAAAAAAAAAAAAABAAAAAAAAAAAAAAAAAAAAAAAAAAAAAAAAAAAAAAAAAAgAAAtx0cmFrAAAAXHRraGQAAAADAAAAAAAAAAAAAAABAAAAAAAABXgAAAAAAAAAAAAAAAAAAAAAAAEAAAAAAAAAAAAAAAAAAAABAAAAAAAAAAAAAAAAAABAAAAAASAAAADgAAAAAAAkZWR0cwAAABxlbHN0AAAAAAAAAAEAAAV4AAAIAAABAAAAAAJUbWRpYQAAACBtZGhkAAAAAAAAAAAAAAAAAAAoAAAAOABVxAAAAAAALWhkbHIAAAAAAAAAAHZpZGUAAAAAAAAAAAAAAABWaWRlb0hhbmRsZXIAAAAB/21pbmYAAAAUdm1oZAAAAAEAAAAAAAAAAAAAACRkaW5mAAAAHGRyZWYAAAAAAAAAAQAAAAx1cmwgAAAAAQAAAb9zdGJsAAAAl3N0c2QAAAAAAAAAAQAAAIdhdmMxAAAAAAAAAAEAAAAAAAAAAAAAAAAAAAAAASAA4ABIAAAASAAAAAAAAAABAAAAAAAAAAAAAAAAAAAAAAAAAAAAAAAAAAAAAAAAAAAAGP//AAAAMWF2Y0MBZAAM/+EAGGdkAAys2UEh2hAAAAMAEAAAAwFA8UKZYAEABmjr48siwAAAABhzdHRzAAAAAAAAAAEAAAAOAAAEAAAAABRzdHNzAAAAAAAAAAEAAAABAAAAeGN0dHMAAAAAAAAADQAAAAIAAAgAAAAAAQAAFAAAAAABAAAIAAAAAAEAAAAAAAAAAQAABAAAAAABAAAUAAAAAAEAAAgAAAAAAQAAAAAAAAABAAAEAAAAAAEAAAwAAAAAAQAABAAAAAABAAAMAAAAAAEAAAQAAAAAHHN0c2MAAAAAAAAAAQAAAAEAAAAOAAAAAQAAAExzdHN6AAAAAAAAAAAAAAAOAAAPQgAAAS8AAAFTAAAEQwAAAMMAAAIkAAACxgAAAEQAAAA2AAAALQAAATYAAAELAAABcAAAANsAAAAUc3RjbwAAAAAAAAABAAAAMAAAAGJ1ZHRhAAAAWm1ldGEAAAAAAAAAIWhkbHIAAAAAAAAAAG1kaXJhcHBsAAAAAAAAAAAAAAAALWlsc3QAAAAlqXRvbwAAAB1kYXRhAAAAAQAAAABMYXZmNTcuODMuMTAw\" type=\"video/mp4\" />\n",
       "                </video>"
      ],
      "text/plain": [
       "<IPython.core.display.HTML object>"
      ]
     },
     "metadata": {},
     "output_type": "display_data"
    }
   ],
   "source": [
    "record_video(expert_model, eval_env=expert_eval_env,\n",
    "             max_video_length=MAX_VIDEO_LEN,\n",
    "             video_prefix=EXPERT_RUN_ID, video_folder=EXPERT_VIDEO_DIR)\n",
    "\n",
    "show_videos(EXPERT_VIDEO_DIR, prefix=EXPERT_RUN_ID)"
   ]
  },
  {
   "cell_type": "markdown",
   "metadata": {},
   "source": [
    "Evaluating the performance of the learned expert:"
   ]
  },
  {
   "cell_type": "code",
   "execution_count": 38,
   "metadata": {
    "ExecuteTime": {
     "end_time": "2020-05-01T09:44:22.728537Z",
     "start_time": "2020-05-01T09:44:20.860704Z"
    }
   },
   "outputs": [
    {
     "name": "stdout",
     "output_type": "stream",
     "text": [
      "expert (ppo2) mean_reward:0.95 +/- 0.00\n"
     ]
    }
   ],
   "source": [
    "mean_reward, std_reward = evaluate_policy(expert_model, expert_eval_env,\n",
    "                                          n_eval_episodes=NUM_EVAL_EPISODES)\n",
    "print(f\"expert ({EXPERT_NAME}) mean_reward:{mean_reward:.2f} +/- {std_reward:.2f}\")"
   ]
  },
  {
   "cell_type": "markdown",
   "metadata": {},
   "source": [
    "#### Visualizing the Imitation Learner on the Orginal Domain"
   ]
  },
  {
   "cell_type": "code",
   "execution_count": 13,
   "metadata": {
    "ExecuteTime": {
     "end_time": "2020-05-01T08:35:54.826970Z",
     "start_time": "2020-05-01T08:35:53.996799Z"
    },
    "scrolled": false
   },
   "outputs": [
    {
     "data": {
      "text/html": [
       "<video alt=\"experiment_data/learner_data/videos/learner_gail_MiniGrid-DistShift1-v0-step-0-to-step-500.mp4\" autoplay\n",
       "                    loop controls style=\"height: 400px;\">\n",
       "                    <source src=\"data:video/mp4;base64,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\" type=\"video/mp4\" />\n",
       "                </video>"
      ],
      "text/plain": [
       "<IPython.core.display.HTML object>"
      ]
     },
     "metadata": {},
     "output_type": "display_data"
    }
   ],
   "source": [
    "record_video(learner_model, eval_env=learner_env,\n",
    "             max_video_length=MAX_VIDEO_LEN,\n",
    "             video_prefix=LEARNER_RUN_ID, video_folder=LEARNER_VIDEO_DIR)\n",
    "\n",
    "show_videos(LEARNER_VIDEO_DIR, prefix=LEARNER_RUN_ID)"
   ]
  },
  {
   "cell_type": "markdown",
   "metadata": {},
   "source": [
    "Evaluating the performance of the learned expert:"
   ]
  },
  {
   "cell_type": "code",
   "execution_count": null,
   "metadata": {
    "ExecuteTime": {
     "end_time": "2020-05-01T07:40:22.516758Z",
     "start_time": "2020-05-01T07:34:34.112Z"
    },
    "scrolled": true
   },
   "outputs": [],
   "source": [
    "mean_reward, std_reward = evaluate_policy(learner_model, eval_env,\n",
    "                                          n_eval_episodes=NUM_EVAL_EPISODES)\n",
    "print(f\"learner ({LEARNER_NAME}) mean_reward:{mean_reward:.2f} +/- {std_reward:.2f}\")"
   ]
  },
  {
   "cell_type": "markdown",
   "metadata": {},
   "source": [
    "#### Visualizing the Imitation Learner on the Orginal Domain"
   ]
  },
  {
   "cell_type": "code",
   "execution_count": null,
   "metadata": {
    "ExecuteTime": {
     "end_time": "2020-05-01T07:40:22.517224Z",
     "start_time": "2020-05-01T07:34:34.636Z"
    }
   },
   "outputs": [],
   "source": [
    "record_video(learner_model, eval_env=eval_env,\n",
    "             max_video_length=MAX_VIDEO_LEN,\n",
    "             video_prefix=LEARNER_RUN_ID, video_folder=LEARNER_VIDEO_DIR)\n",
    "\n",
    "show_videos(LEARNER_VIDEO_DIR, prefix=LEARNER_RUN_ID)"
   ]
  },
  {
   "cell_type": "markdown",
   "metadata": {},
   "source": [
    "Evaluating the performance of the learned expert:"
   ]
  },
  {
   "cell_type": "code",
   "execution_count": null,
   "metadata": {
    "ExecuteTime": {
     "end_time": "2020-05-01T07:40:22.517756Z",
     "start_time": "2020-05-01T07:34:35.112Z"
    },
    "scrolled": true
   },
   "outputs": [],
   "source": [
    "mean_reward, std_reward = evaluate_policy(learner_model, eval_env,\n",
    "                                          n_eval_episodes=NUM_EVAL_EPISODES)\n",
    "print(f\"learner ({LEARNER_NAME}) mean_reward:{mean_reward:.2f} +/- {std_reward:.2f}\")"
   ]
  },
  {
   "cell_type": "markdown",
   "metadata": {},
   "source": [
    "#### Visualizing the Imitation Learner on a Similar, Unseen Domain\n",
    "\n",
    "Can this fully-observable model that has no look-ahead learn? Shouldn't be able to."
   ]
  },
  {
   "cell_type": "code",
   "execution_count": null,
   "metadata": {
    "ExecuteTime": {
     "end_time": "2020-05-01T07:40:22.518231Z",
     "start_time": "2020-05-01T07:34:35.559Z"
    }
   },
   "outputs": [],
   "source": [
    "record_video(learner_model, eval_env=modified_env,\n",
    "             max_video_length=MAX_VIDEO_LEN,\n",
    "             video_prefix=LEARNER_MODIFIIED_RUN_ID,\n",
    "             video_folder=LEARNER_VIDEO_DIR)\n",
    "\n",
    "show_videos(LEARNER_VIDEO_DIR, prefix=LEARNER_MODIFIIED_RUN_ID)"
   ]
  },
  {
   "cell_type": "markdown",
   "metadata": {},
   "source": [
    "Evaluating the performance of the learned expert:"
   ]
  },
  {
   "cell_type": "code",
   "execution_count": null,
   "metadata": {
    "ExecuteTime": {
     "end_time": "2020-05-01T07:40:22.518691Z",
     "start_time": "2020-05-01T07:34:36.015Z"
    },
    "scrolled": true
   },
   "outputs": [],
   "source": [
    "mean_reward, std_reward = evaluate_policy(learner_model, modified_env,\n",
    "                                          n_eval_episodes=NUM_EVAL_EPISODES)\n",
    "print(f\"learner ({LEARNER_NAME}) mean_reward:{mean_reward:.2f} +/- {std_reward:.2f}\")"
   ]
  }
 ],
 "metadata": {
  "kernelspec": {
   "display_name": "Python 3",
   "language": "python",
   "name": "python3"
  },
  "language_info": {
   "codemirror_mode": {
    "name": "ipython",
    "version": 3
   },
   "file_extension": ".py",
   "mimetype": "text/x-python",
   "name": "python",
   "nbconvert_exporter": "python",
   "pygments_lexer": "ipython3",
   "version": "3.6.9"
  },
  "latex_envs": {
   "LaTeX_envs_menu_present": true,
   "autoclose": false,
   "autocomplete": true,
   "bibliofile": "biblio.bib",
   "cite_by": "apalike",
   "current_citInitial": 1,
   "eqLabelWithNumbers": true,
   "eqNumInitial": 1,
   "hotkeys": {
    "equation": "Ctrl-E",
    "itemize": "Ctrl-I"
   },
   "labels_anchors": false,
   "latex_user_defs": false,
   "report_style_numbering": false,
   "user_envs_cfg": false
  },
  "varInspector": {
   "cols": {
    "lenName": 16,
    "lenType": 16,
    "lenVar": 40
   },
   "kernels_config": {
    "python": {
     "delete_cmd_postfix": "",
     "delete_cmd_prefix": "del ",
     "library": "var_list.py",
     "varRefreshCmd": "print(var_dic_list())"
    },
    "r": {
     "delete_cmd_postfix": ") ",
     "delete_cmd_prefix": "rm(",
     "library": "var_list.r",
     "varRefreshCmd": "cat(var_dic_list()) "
    }
   },
   "types_to_exclude": [
    "module",
    "function",
    "builtin_function_or_method",
    "instance",
    "_Feature"
   ],
   "window_display": false
  }
 },
 "nbformat": 4,
 "nbformat_minor": 4
}
